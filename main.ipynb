{
 "cells": [
  {
   "cell_type": "code",
   "execution_count": 1,
   "metadata": {},
   "outputs": [],
   "source": [
    "import pandas as pd\n",
    "import matplotlib.pyplot as plt\n",
    "import seaborn as sns\n",
    "import numpy as np"
   ]
  },
  {
   "cell_type": "code",
   "execution_count": 2,
   "metadata": {},
   "outputs": [],
   "source": [
    "df = pd.read_csv(r\"D:\\projects\\AI\\CIT GEN AI WORKSHOP\\Assignment 1\\stock_data.csv\")"
   ]
  },
  {
   "cell_type": "code",
   "execution_count": 3,
   "metadata": {},
   "outputs": [
    {
     "data": {
      "text/html": [
       "<div>\n",
       "<style scoped>\n",
       "    .dataframe tbody tr th:only-of-type {\n",
       "        vertical-align: middle;\n",
       "    }\n",
       "\n",
       "    .dataframe tbody tr th {\n",
       "        vertical-align: top;\n",
       "    }\n",
       "\n",
       "    .dataframe thead th {\n",
       "        text-align: right;\n",
       "    }\n",
       "</style>\n",
       "<table border=\"1\" class=\"dataframe\">\n",
       "  <thead>\n",
       "    <tr style=\"text-align: right;\">\n",
       "      <th></th>\n",
       "      <th>Price</th>\n",
       "      <th>Adj Close</th>\n",
       "      <th>Close</th>\n",
       "      <th>High</th>\n",
       "      <th>Low</th>\n",
       "      <th>Open</th>\n",
       "      <th>Volume</th>\n",
       "    </tr>\n",
       "  </thead>\n",
       "  <tbody>\n",
       "    <tr>\n",
       "      <th>0</th>\n",
       "      <td>2020-01-02 00:00:00+00:00</td>\n",
       "      <td>72.796021</td>\n",
       "      <td>75.087502</td>\n",
       "      <td>75.150002</td>\n",
       "      <td>73.797501</td>\n",
       "      <td>74.059998</td>\n",
       "      <td>135480400</td>\n",
       "    </tr>\n",
       "    <tr>\n",
       "      <th>1</th>\n",
       "      <td>2020-01-03 00:00:00+00:00</td>\n",
       "      <td>72.088280</td>\n",
       "      <td>74.357498</td>\n",
       "      <td>75.144997</td>\n",
       "      <td>74.125000</td>\n",
       "      <td>74.287498</td>\n",
       "      <td>146322800</td>\n",
       "    </tr>\n",
       "    <tr>\n",
       "      <th>2</th>\n",
       "      <td>2020-01-06 00:00:00+00:00</td>\n",
       "      <td>72.662704</td>\n",
       "      <td>74.949997</td>\n",
       "      <td>74.989998</td>\n",
       "      <td>73.187500</td>\n",
       "      <td>73.447502</td>\n",
       "      <td>118387200</td>\n",
       "    </tr>\n",
       "    <tr>\n",
       "      <th>3</th>\n",
       "      <td>2020-01-07 00:00:00+00:00</td>\n",
       "      <td>72.320984</td>\n",
       "      <td>74.597504</td>\n",
       "      <td>75.224998</td>\n",
       "      <td>74.370003</td>\n",
       "      <td>74.959999</td>\n",
       "      <td>108872000</td>\n",
       "    </tr>\n",
       "    <tr>\n",
       "      <th>4</th>\n",
       "      <td>2020-01-08 00:00:00+00:00</td>\n",
       "      <td>73.484337</td>\n",
       "      <td>75.797501</td>\n",
       "      <td>76.110001</td>\n",
       "      <td>74.290001</td>\n",
       "      <td>74.290001</td>\n",
       "      <td>132079200</td>\n",
       "    </tr>\n",
       "  </tbody>\n",
       "</table>\n",
       "</div>"
      ],
      "text/plain": [
       "                       Price  Adj Close      Close       High        Low  \\\n",
       "0  2020-01-02 00:00:00+00:00  72.796021  75.087502  75.150002  73.797501   \n",
       "1  2020-01-03 00:00:00+00:00  72.088280  74.357498  75.144997  74.125000   \n",
       "2  2020-01-06 00:00:00+00:00  72.662704  74.949997  74.989998  73.187500   \n",
       "3  2020-01-07 00:00:00+00:00  72.320984  74.597504  75.224998  74.370003   \n",
       "4  2020-01-08 00:00:00+00:00  73.484337  75.797501  76.110001  74.290001   \n",
       "\n",
       "        Open     Volume  \n",
       "0  74.059998  135480400  \n",
       "1  74.287498  146322800  \n",
       "2  73.447502  118387200  \n",
       "3  74.959999  108872000  \n",
       "4  74.290001  132079200  "
      ]
     },
     "execution_count": 3,
     "metadata": {},
     "output_type": "execute_result"
    }
   ],
   "source": [
    "df.head()"
   ]
  },
  {
   "cell_type": "code",
   "execution_count": 4,
   "metadata": {},
   "outputs": [
    {
     "data": {
      "text/html": [
       "<div>\n",
       "<style scoped>\n",
       "    .dataframe tbody tr th:only-of-type {\n",
       "        vertical-align: middle;\n",
       "    }\n",
       "\n",
       "    .dataframe tbody tr th {\n",
       "        vertical-align: top;\n",
       "    }\n",
       "\n",
       "    .dataframe thead th {\n",
       "        text-align: right;\n",
       "    }\n",
       "</style>\n",
       "<table border=\"1\" class=\"dataframe\">\n",
       "  <thead>\n",
       "    <tr style=\"text-align: right;\">\n",
       "      <th></th>\n",
       "      <th>Adj Close</th>\n",
       "      <th>Close</th>\n",
       "      <th>High</th>\n",
       "      <th>Low</th>\n",
       "      <th>Open</th>\n",
       "      <th>Volume</th>\n",
       "    </tr>\n",
       "  </thead>\n",
       "  <tbody>\n",
       "    <tr>\n",
       "      <th>count</th>\n",
       "      <td>756.000000</td>\n",
       "      <td>756.000000</td>\n",
       "      <td>756.000000</td>\n",
       "      <td>756.000000</td>\n",
       "      <td>756.000000</td>\n",
       "      <td>7.560000e+02</td>\n",
       "    </tr>\n",
       "    <tr>\n",
       "      <th>mean</th>\n",
       "      <td>127.940987</td>\n",
       "      <td>130.311812</td>\n",
       "      <td>131.892775</td>\n",
       "      <td>128.614983</td>\n",
       "      <td>130.231998</td>\n",
       "      <td>1.120920e+08</td>\n",
       "    </tr>\n",
       "    <tr>\n",
       "      <th>std</th>\n",
       "      <td>30.494847</td>\n",
       "      <td>30.566496</td>\n",
       "      <td>30.841435</td>\n",
       "      <td>30.287325</td>\n",
       "      <td>30.596429</td>\n",
       "      <td>5.602586e+07</td>\n",
       "    </tr>\n",
       "    <tr>\n",
       "      <th>min</th>\n",
       "      <td>54.509758</td>\n",
       "      <td>56.092499</td>\n",
       "      <td>57.125000</td>\n",
       "      <td>53.152500</td>\n",
       "      <td>57.020000</td>\n",
       "      <td>3.519590e+07</td>\n",
       "    </tr>\n",
       "    <tr>\n",
       "      <th>25%</th>\n",
       "      <td>112.981403</td>\n",
       "      <td>115.739374</td>\n",
       "      <td>117.275000</td>\n",
       "      <td>114.129997</td>\n",
       "      <td>115.924374</td>\n",
       "      <td>7.636470e+07</td>\n",
       "    </tr>\n",
       "    <tr>\n",
       "      <th>50%</th>\n",
       "      <td>133.331627</td>\n",
       "      <td>135.379997</td>\n",
       "      <td>137.200005</td>\n",
       "      <td>133.750000</td>\n",
       "      <td>135.794998</td>\n",
       "      <td>9.493580e+07</td>\n",
       "    </tr>\n",
       "    <tr>\n",
       "      <th>75%</th>\n",
       "      <td>148.579056</td>\n",
       "      <td>150.704998</td>\n",
       "      <td>151.902504</td>\n",
       "      <td>149.029995</td>\n",
       "      <td>150.259998</td>\n",
       "      <td>1.296327e+08</td>\n",
       "    </tr>\n",
       "    <tr>\n",
       "      <th>max</th>\n",
       "      <td>179.076584</td>\n",
       "      <td>182.009995</td>\n",
       "      <td>182.940002</td>\n",
       "      <td>179.119995</td>\n",
       "      <td>182.630005</td>\n",
       "      <td>4.265100e+08</td>\n",
       "    </tr>\n",
       "  </tbody>\n",
       "</table>\n",
       "</div>"
      ],
      "text/plain": [
       "        Adj Close       Close        High         Low        Open  \\\n",
       "count  756.000000  756.000000  756.000000  756.000000  756.000000   \n",
       "mean   127.940987  130.311812  131.892775  128.614983  130.231998   \n",
       "std     30.494847   30.566496   30.841435   30.287325   30.596429   \n",
       "min     54.509758   56.092499   57.125000   53.152500   57.020000   \n",
       "25%    112.981403  115.739374  117.275000  114.129997  115.924374   \n",
       "50%    133.331627  135.379997  137.200005  133.750000  135.794998   \n",
       "75%    148.579056  150.704998  151.902504  149.029995  150.259998   \n",
       "max    179.076584  182.009995  182.940002  179.119995  182.630005   \n",
       "\n",
       "             Volume  \n",
       "count  7.560000e+02  \n",
       "mean   1.120920e+08  \n",
       "std    5.602586e+07  \n",
       "min    3.519590e+07  \n",
       "25%    7.636470e+07  \n",
       "50%    9.493580e+07  \n",
       "75%    1.296327e+08  \n",
       "max    4.265100e+08  "
      ]
     },
     "execution_count": 4,
     "metadata": {},
     "output_type": "execute_result"
    }
   ],
   "source": [
    "df.describe()"
   ]
  },
  {
   "cell_type": "code",
   "execution_count": 5,
   "metadata": {},
   "outputs": [
    {
     "name": "stdout",
     "output_type": "stream",
     "text": [
      "<class 'pandas.core.frame.DataFrame'>\n",
      "RangeIndex: 756 entries, 0 to 755\n",
      "Data columns (total 7 columns):\n",
      " #   Column     Non-Null Count  Dtype  \n",
      "---  ------     --------------  -----  \n",
      " 0   Price      756 non-null    object \n",
      " 1   Adj Close  756 non-null    float64\n",
      " 2   Close      756 non-null    float64\n",
      " 3   High       756 non-null    float64\n",
      " 4   Low        756 non-null    float64\n",
      " 5   Open       756 non-null    float64\n",
      " 6   Volume     756 non-null    int64  \n",
      "dtypes: float64(5), int64(1), object(1)\n",
      "memory usage: 41.5+ KB\n"
     ]
    }
   ],
   "source": [
    "df.info()"
   ]
  },
  {
   "cell_type": "code",
   "execution_count": 9,
   "metadata": {},
   "outputs": [],
   "source": [
    "df.set_index(pd.DatetimeIndex(df['Price']), inplace=True)\n",
    "df = df[['Adj Close']]"
   ]
  },
  {
   "cell_type": "code",
   "execution_count": 10,
   "metadata": {},
   "outputs": [
    {
     "name": "stdout",
     "output_type": "stream",
     "text": [
      "<class 'pandas.core.frame.DataFrame'>\n",
      "DatetimeIndex: 756 entries, 2020-01-02 00:00:00+00:00 to 2022-12-30 00:00:00+00:00\n",
      "Data columns (total 1 columns):\n",
      " #   Column     Non-Null Count  Dtype  \n",
      "---  ------     --------------  -----  \n",
      " 0   Adj Close  756 non-null    float64\n",
      "dtypes: float64(1)\n",
      "memory usage: 11.8 KB\n"
     ]
    }
   ],
   "source": [
    "df.info()"
   ]
  },
  {
   "cell_type": "code",
   "execution_count": null,
   "metadata": {},
   "outputs": [],
   "source": []
  }
 ],
 "metadata": {
  "kernelspec": {
   "display_name": "base",
   "language": "python",
   "name": "python3"
  },
  "language_info": {
   "codemirror_mode": {
    "name": "ipython",
    "version": 3
   },
   "file_extension": ".py",
   "mimetype": "text/x-python",
   "name": "python",
   "nbconvert_exporter": "python",
   "pygments_lexer": "ipython3",
   "version": "3.11.7"
  }
 },
 "nbformat": 4,
 "nbformat_minor": 2
}
